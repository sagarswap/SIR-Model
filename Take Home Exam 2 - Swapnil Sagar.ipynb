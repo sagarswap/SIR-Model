{
 "cells": [
  {
   "cell_type": "markdown",
   "metadata": {},
   "source": [
    "Take Home Exam 2 Code by Swapnil Sagar"
   ]
  },
  {
   "cell_type": "code",
   "execution_count": 5,
   "metadata": {},
   "outputs": [],
   "source": [
    "import matplotlib.pyplot as plt\n",
    "import numpy as np\n",
    "import networkx as nx\n",
    "import random\n",
    "import scipy as scipy"
   ]
  },
  {
   "cell_type": "markdown",
   "metadata": {},
   "source": [
    "Create some lists to be used later"
   ]
  },
  {
   "cell_type": "code",
   "execution_count": 6,
   "metadata": {},
   "outputs": [],
   "source": [
    "pList=[0, 0.0001, 0.00025, 0.0005, 0.00075, 0.001, 0.0025, 0.005, 0.0075, 0.01, 0.025, 0.05, 0.075, 0.1, 0.25, 0.5, 0.75, 1]\n",
    "lDict=dict()\n",
    "cDict=dict()\n",
    "GDict=dict()\n",
    "tDict=dict()\n",
    "tHalfDict=dict()"
   ]
  },
  {
   "cell_type": "markdown",
   "metadata": {},
   "source": [
    "Generate Watts Strogatz Graphs for all 'p'"
   ]
  },
  {
   "cell_type": "code",
   "execution_count": 3,
   "metadata": {},
   "outputs": [],
   "source": [
    "for p in pList:\n",
    "    G=nx.watts_strogatz_graph(1000, 10, p)\n",
    "    l=nx.average_shortest_path_length(G)\n",
    "    lDict[p]=l\n",
    "    c=nx.average_clustering(G)\n",
    "    cDict[p]=c\n",
    "    GDict[p]=G"
   ]
  },
  {
   "cell_type": "code",
   "execution_count": 4,
   "metadata": {},
   "outputs": [
    {
     "name": "stdout",
     "output_type": "stream",
     "text": [
      "{0: 50.450450450450454, 0.0001: 50.450450450450454, 0.00025: 39.91403003003003, 0.0005: 30.04945945945946, 0.00075: 25.673047047047046, 0.001: 28.064276276276278, 0.0025: 24.557457457457456, 0.005: 12.00041041041041, 0.0075: 10.3031011011011, 0.01: 9.90512912912913, 0.025: 6.121047047047047, 0.05: 5.1574654654654655, 0.075: 4.727427427427427, 0.1: 4.465727727727728, 0.25: 3.724138138138138, 0.5: 3.3863683683683683, 0.75: 3.2786606606606608, 1: 3.2685485485485484}\n",
      "{0: 0.6666666666666636, 0.0001: 0.6666666666666636, 0.00025: 0.6664232323232294, 0.0005: 0.6654040404040372, 0.00075: 0.6653919191919159, 0.001: 0.6656474747474717, 0.0025: 0.6648717171717142, 0.005: 0.6578373737373703, 0.0075: 0.6534387445887415, 0.01: 0.6511582251082222, 0.025: 0.6102852813852802, 0.05: 0.5667156621156616, 0.075: 0.5283718670218672, 0.1: 0.4937435342435343, 0.25: 0.29563048618048665, 0.5: 0.09519600350629814, 0.75: 0.01667939450470412, 1: 0.009892304960261625}\n"
     ]
    }
   ],
   "source": [
    "print(lDict)\n",
    "print(cDict)"
   ]
  },
  {
   "cell_type": "markdown",
   "metadata": {},
   "source": [
    "The model"
   ]
  },
  {
   "cell_type": "code",
   "execution_count": 8,
   "metadata": {},
   "outputs": [],
   "source": [
    "def SIRModel(G, p, r):\n",
    "    t=0\n",
    "    tHalf=0\n",
    "    statusList=dict() # 0 = S, 1 = I, 2 = R\n",
    "    infectionList=[]\n",
    "\n",
    "    for i in range(0, 999):\n",
    "        statusList[i]=0\n",
    "    \n",
    "    lamb=random.randint(0, 999)\n",
    "    statusList[lamb]=1\n",
    "    infectionList.append(lamb)\n",
    "\n",
    "    for time in range(0, 1200000000): # 1.2 billion time iterations\n",
    "        newInfection=[]\n",
    "        for infected in infectionList:\n",
    "            #We will now generate all neighbours of an infected node\n",
    "            susceptibleNeighbours=G.neighbors(infected)\n",
    "            #For each  neighbour we calculate the probability to become infected, and if so, we infect them\n",
    "            for susceptible in susceptibleNeighbours:\n",
    "                infectionDice=random.random()\n",
    "                if infectionDice<=r and statusList[susceptible]==0:\n",
    "                    #We will now infect the neighbour\n",
    "                    newInfection.append(susceptible)\n",
    "                    statusList[susceptible]=1\n",
    "            #We will remove the previously infected node\n",
    "            G.remove_node(infected)\n",
    "            statusList[infected]=2\n",
    "            infectionList.remove(infected)\n",
    "\n",
    "            #We will now add all the newly infected people to the infection list\n",
    "            for ni in newInfection:\n",
    "                infectionList.append(ni)\n",
    "        \n",
    "        infected=0\n",
    "        for i in range (0, 999):\n",
    "            if statusList[i]!=0:\n",
    "                infected=infected+1\n",
    "        \n",
    "        if(infected>=500):\n",
    "            tHalf=time\n",
    "        t=time\n",
    "    \n",
    "    tHalfDict[p]=tHalf\n",
    "    tDict[p]=t\n",
    "        \n",
    "            \n"
   ]
  },
  {
   "cell_type": "markdown",
   "metadata": {},
   "source": [
    "We will now run the model on the various Watts Sttrogatz Graphs"
   ]
  },
  {
   "cell_type": "code",
   "execution_count": null,
   "metadata": {},
   "outputs": [],
   "source": []
  }
 ],
 "metadata": {
  "kernelspec": {
   "display_name": "Python 3",
   "language": "python",
   "name": "python3"
  },
  "language_info": {
   "codemirror_mode": {
    "name": "ipython",
    "version": 3
   },
   "file_extension": ".py",
   "mimetype": "text/x-python",
   "name": "python",
   "nbconvert_exporter": "python",
   "pygments_lexer": "ipython3",
   "version": "3.10.4"
  }
 },
 "nbformat": 4,
 "nbformat_minor": 2
}
